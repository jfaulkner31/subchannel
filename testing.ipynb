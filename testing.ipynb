{
 "cells": [
  {
   "cell_type": "code",
   "execution_count": 1,
   "metadata": {},
   "outputs": [],
   "source": [
    "import gmesh_conv.meshing\n",
    "import numpy as np\n",
    "import Fields.Fields as fields\n",
    "import Kernels.Kernels as kernels\n",
    "import BCs.BoundaryConditions as bcs\n",
    "import Solvers.Solvers as solvers\n"
   ]
  },
  {
   "cell_type": "code",
   "execution_count": 4,
   "metadata": {},
   "outputs": [
    {
     "name": "stdout",
     "output_type": "stream",
     "text": [
      "Info    : Reading 'gmesh_conv/fine.msh'...\n",
      "Info    : 27 entities\n",
      "Info    : 4712 nodes\n",
      "Info    : 26239 elements\n"
     ]
    },
    {
     "name": "stderr",
     "output_type": "stream",
     "text": [
      "Warning : Gmsh has aleady been initialized\n"
     ]
    },
    {
     "name": "stdout",
     "output_type": "stream",
     "text": [
      "Info    : Done reading 'gmesh_conv/fine.msh'\n"
     ]
    },
    {
     "ename": "Exception",
     "evalue": "eid =23035A surface must be either a boundary or a face.",
     "output_type": "error",
     "traceback": [
      "\u001b[0;31m---------------------------------------------------------------------------\u001b[0m",
      "\u001b[0;31mException\u001b[0m                                 Traceback (most recent call last)",
      "Cell \u001b[0;32mIn[4], line 2\u001b[0m\n\u001b[1;32m      1\u001b[0m \u001b[38;5;66;03m# Get the gmsh mesh as a mesh object\u001b[39;00m\n\u001b[0;32m----> 2\u001b[0m mesh \u001b[38;5;241m=\u001b[39m \u001b[43mgmesh_conv\u001b[49m\u001b[38;5;241;43m.\u001b[39;49m\u001b[43mmeshing\u001b[49m\u001b[38;5;241;43m.\u001b[39;49m\u001b[43mmesh_from_gmsh\u001b[49m\u001b[43m(\u001b[49m\u001b[43mfilename\u001b[49m\u001b[38;5;241;43m=\u001b[39;49m\u001b[38;5;124;43m'\u001b[39;49m\u001b[38;5;124;43mgmesh_conv/fine.msh\u001b[39;49m\u001b[38;5;124;43m'\u001b[39;49m\u001b[43m,\u001b[49m\u001b[43m \u001b[49m\u001b[43morthogonalityApproach\u001b[49m\u001b[38;5;241;43m=\u001b[39;49m\u001b[38;5;124;43m'\u001b[39;49m\u001b[38;5;124;43mOCA\u001b[39;49m\u001b[38;5;124;43m'\u001b[39;49m\u001b[43m)\u001b[49m\n",
      "File \u001b[0;32m~/projects/subchannel/gmesh_conv/meshing.py:616\u001b[0m, in \u001b[0;36mmesh_from_gmsh\u001b[0;34m(filename, orthogonalityApproach)\u001b[0m\n\u001b[1;32m    611\u001b[0m       \u001b[38;5;66;03m# print(face_id-1, nodeTags)\u001b[39;00m\n\u001b[1;32m    612\u001b[0m \n\u001b[1;32m    613\u001b[0m \n\u001b[1;32m    614\u001b[0m \u001b[38;5;66;03m# verify elements that all faces are either a boundary or a face\u001b[39;00m\n\u001b[1;32m    615\u001b[0m \u001b[38;5;28;01mfor\u001b[39;00m e \u001b[38;5;129;01min\u001b[39;00m  elements:\n\u001b[0;32m--> 616\u001b[0m   \u001b[43me\u001b[49m\u001b[38;5;241;43m.\u001b[39;49m\u001b[43mverify_neighbors_and_faces\u001b[49m\u001b[43m(\u001b[49m\u001b[43m)\u001b[49m\n\u001b[1;32m    618\u001b[0m \u001b[38;5;66;03m################################\u001b[39;00m\n\u001b[1;32m    619\u001b[0m \u001b[38;5;66;03m# FACE AREAS AND CENTROIDS\u001b[39;00m\n\u001b[1;32m    620\u001b[0m \u001b[38;5;66;03m################################\u001b[39;00m\n\u001b[1;32m    621\u001b[0m \n\u001b[1;32m    622\u001b[0m \u001b[38;5;66;03m# compute area and centroids and geometric centers of all faces.\u001b[39;00m\n\u001b[1;32m    623\u001b[0m \u001b[38;5;28;01mfor\u001b[39;00m f \u001b[38;5;129;01min\u001b[39;00m faces:\n",
      "File \u001b[0;32m~/projects/subchannel/gmesh_conv/meshing.py:102\u001b[0m, in \u001b[0;36melement.verify_neighbors_and_faces\u001b[0;34m(self)\u001b[0m\n\u001b[1;32m    100\u001b[0m   \u001b[38;5;28;01mraise\u001b[39;00m \u001b[38;5;167;01mException\u001b[39;00m(\u001b[38;5;124m\"\u001b[39m\u001b[38;5;124meid =\u001b[39m\u001b[38;5;124m\"\u001b[39m \u001b[38;5;241m+\u001b[39m \u001b[38;5;28mstr\u001b[39m(\u001b[38;5;28mself\u001b[39m\u001b[38;5;241m.\u001b[39meid) \u001b[38;5;241m+\u001b[39m \u001b[38;5;124m\"\u001b[39m\u001b[38;5;124mA surface cannot be both a boundary and an internal face.\u001b[39m\u001b[38;5;124m\"\u001b[39m)\n\u001b[1;32m    101\u001b[0m \u001b[38;5;28;01mif\u001b[39;00m (b \u001b[38;5;241m==\u001b[39m \u001b[38;5;28;01mFalse\u001b[39;00m) \u001b[38;5;241m&\u001b[39m (\u001b[38;5;28mself\u001b[39m\u001b[38;5;241m.\u001b[39mis_face[idx] \u001b[38;5;241m==\u001b[39m \u001b[38;5;28;01mFalse\u001b[39;00m):\n\u001b[0;32m--> 102\u001b[0m   \u001b[38;5;28;01mraise\u001b[39;00m \u001b[38;5;167;01mException\u001b[39;00m(\u001b[38;5;124m\"\u001b[39m\u001b[38;5;124meid =\u001b[39m\u001b[38;5;124m\"\u001b[39m \u001b[38;5;241m+\u001b[39m \u001b[38;5;28mstr\u001b[39m(\u001b[38;5;28mself\u001b[39m\u001b[38;5;241m.\u001b[39meid) \u001b[38;5;241m+\u001b[39m \u001b[38;5;124m\"\u001b[39m\u001b[38;5;124mA surface must be either a boundary or a face.\u001b[39m\u001b[38;5;124m\"\u001b[39m)\n",
      "\u001b[0;31mException\u001b[0m: eid =23035A surface must be either a boundary or a face."
     ]
    }
   ],
   "source": [
    "# Get the gmsh mesh as a mesh object\n",
    "mesh = gmesh_conv.meshing.mesh_from_gmsh(filename='gmesh_conv/fine.msh', orthogonalityApproach='OCA')"
   ]
  },
  {
   "cell_type": "code",
   "execution_count": 3,
   "metadata": {},
   "outputs": [],
   "source": [
    "# write a variable with all the volume ids of interest.\n",
    "wholeProblem = [mesh.volumes[0]]  # there is only one volume and it has id of 0"
   ]
  },
  {
   "cell_type": "code",
   "execution_count": 4,
   "metadata": {},
   "outputs": [],
   "source": [
    "# make a pure zero field to describe the initial conditions or initial guess of the problem.\n",
    "# we use the wholeProblem before as the volume list since it is a list of volumes that contains all the elements that the field lives on.\n",
    "# wholeProblem\n",
    "#   volumes in the wholeProble list from above\n",
    "#     elements in this volume\n",
    "#       element id for this element\n",
    "zeroField = fields.ICScalarField(volumeList=wholeProblem, m=mesh, fill_value=1.0)"
   ]
  },
  {
   "cell_type": "code",
   "execution_count": 5,
   "metadata": {},
   "outputs": [],
   "source": [
    "# now make a scalar field - we will call this T\n",
    "# use the initial condition zeroField to set the IC of the ScalarField\n",
    "C = fields.ScalarField(initial_condition=zeroField, name='C')\n",
    "\n"
   ]
  },
  {
   "cell_type": "code",
   "execution_count": 6,
   "metadata": {},
   "outputs": [],
   "source": [
    "# now make boundary conditions.\n",
    "bc1 = bcs.DirichletBC(boundary_list=[3,4,5], m=mesh, Gamma=1.0, field=C, value=1.0)\n",
    "bc2 = bcs.DirichletBC(boundary_list=[0,1,2], m=mesh, Gamma=1.0, field=C, value=0.0)\n"
   ]
  },
  {
   "cell_type": "code",
   "execution_count": 7,
   "metadata": {},
   "outputs": [],
   "source": [
    "# then append BCs to the field of interest that this applies to\n",
    "C.assign_bcs([bc1, bc2])"
   ]
  },
  {
   "cell_type": "code",
   "execution_count": 8,
   "metadata": {},
   "outputs": [],
   "source": [
    "# now add a diffusion kernel to the field\n",
    "diffKernel = kernels.DiffusionKernel(Gamma=1, field=C, volumeList = wholeProblem, m=mesh)\n",
    "C.assign_kernels([diffKernel])"
   ]
  },
  {
   "cell_type": "code",
   "execution_count": 9,
   "metadata": {},
   "outputs": [],
   "source": [
    "# make the solver object\n",
    "solver = solvers.SinglePhysicsSolver(iterations=10, field=C)"
   ]
  },
  {
   "cell_type": "code",
   "execution_count": null,
   "metadata": {},
   "outputs": [],
   "source": [
    "# solve\n",
    "solver.solve()"
   ]
  },
  {
   "cell_type": "code",
   "execution_count": 11,
   "metadata": {},
   "outputs": [],
   "source": [
    "# get decomposed gradient for dumping out\n",
    "gradParts = C.grad.return_grad()\n",
    "\n",
    "# get b matrix vector\n",
    "bcoeffs = solver.b_to_field()\n",
    "diag = solver.diag_to_field()\n",
    "# get C as a Field and add to field list\n",
    "fieldList = gradParts + [C, bcoeffs, diag]\n",
    "\n",
    "# make output mesh\n",
    "mesh.export_to_vtk(filename='test.vtk', fieldlist=fieldList)"
   ]
  }
 ],
 "metadata": {
  "kernelspec": {
   "display_name": "subchannel",
   "language": "python",
   "name": "python3"
  },
  "language_info": {
   "codemirror_mode": {
    "name": "ipython",
    "version": 3
   },
   "file_extension": ".py",
   "mimetype": "text/x-python",
   "name": "python",
   "nbconvert_exporter": "python",
   "pygments_lexer": "ipython3",
   "version": "3.12.8"
  }
 },
 "nbformat": 4,
 "nbformat_minor": 2
}
