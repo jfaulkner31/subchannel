{
 "cells": [
  {
   "cell_type": "code",
   "execution_count": 1,
   "metadata": {},
   "outputs": [],
   "source": [
    "import gmesh_conv.meshing\n",
    "import numpy as np\n",
    "import Fields.Fields as fields\n",
    "import Kernels.Kernels as kernels\n",
    "import BCs.BoundaryConditions as bcs\n",
    "import Solvers.Solvers as solvers\n"
   ]
  },
  {
   "cell_type": "code",
   "execution_count": 2,
   "metadata": {},
   "outputs": [
    {
     "name": "stdout",
     "output_type": "stream",
     "text": [
      "Info    : Reading 'gmesh_conv/fine.msh'...\n",
      "Info    : 27 entities\n",
      "Info    : 1200 nodes\n",
      "Info    : 6563 elements\n",
      "Info    : Done reading 'gmesh_conv/fine.msh'\n",
      "============================\n",
      "Total volume is: 0.9999999999999998\n",
      "Surface vector for surface zPlus is [0. 0. 1.]\n",
      "Surface vector for surface xPlus is [1. 0. 0.]\n",
      "Surface vector for surface yPlus is [0. 1. 0.]\n",
      "Surface vector for surface xMinus is [-1.  0.  0.]\n",
      "Surface vector for surface yMinus is [ 0. -1.  0.]\n",
      "Surface vector for surface zMinus is [ 0.  0. -1.]\n",
      "Total bndry surface area is: 6.0000000000000115\n",
      "============================\n",
      "Information for mesh with id of 0\n",
      "Volume information:\n",
      "\tVolume ID 0  Physical Name: controlVolume\n",
      "Surface information:\n",
      "\tSurface ID 0  Physical Name: zPlus\n",
      "\tSurface ID 1  Physical Name: xPlus\n",
      "\tSurface ID 2  Physical Name: yPlus\n",
      "\tSurface ID 3  Physical Name: xMinus\n",
      "\tSurface ID 4  Physical Name: yMinus\n",
      "\tSurface ID 5  Physical Name: zMinus\n"
     ]
    }
   ],
   "source": [
    "# Get the gmsh mesh as a mesh object\n",
    "mesh = gmesh_conv.meshing.mesh_from_gmsh(filename='gmesh_conv/fine.msh', orthogonalityApproach='OCA')"
   ]
  },
  {
   "cell_type": "code",
   "execution_count": 3,
   "metadata": {},
   "outputs": [],
   "source": [
    "# write a variable with all the volume ids of interest.\n",
    "wholeProblem = [mesh.volumes[0]]  # there is only one volume and it has id of 0"
   ]
  },
  {
   "cell_type": "code",
   "execution_count": 4,
   "metadata": {},
   "outputs": [],
   "source": [
    "# make a pure zero field to describe the initial conditions or initial guess of the problem.\n",
    "# we use the wholeProblem before as the volume list since it is a list of volumes that contains all the elements that the field lives on.\n",
    "# wholeProblem\n",
    "#   volumes in the wholeProble list from above\n",
    "#     elements in this volume\n",
    "#       element id for this element\n",
    "zeroField = fields.ICScalarField(volumeList=wholeProblem, m=mesh, fill_value=1.0)"
   ]
  },
  {
   "cell_type": "code",
   "execution_count": 5,
   "metadata": {},
   "outputs": [],
   "source": [
    "# now make a scalar field - we will call this T\n",
    "# use the initial condition zeroField to set the IC of the ScalarField\n",
    "C = fields.ScalarField(initial_condition=zeroField, name='C')\n",
    "\n"
   ]
  },
  {
   "cell_type": "code",
   "execution_count": 6,
   "metadata": {},
   "outputs": [],
   "source": [
    "# now make boundary conditions.\n",
    "bc1 = bcs.DirichletBC(boundary_list=[3,4,5], m=mesh, Gamma=1.0, field=C, value=1.0)\n",
    "bc2 = bcs.DirichletBC(boundary_list=[0,1,2], m=mesh, Gamma=1.0, field=C, value=1.0)\n"
   ]
  },
  {
   "cell_type": "code",
   "execution_count": 7,
   "metadata": {},
   "outputs": [],
   "source": [
    "# then append BCs to the field of interest that this applies to\n",
    "C.assign_bcs([bc1, bc2])"
   ]
  },
  {
   "cell_type": "code",
   "execution_count": 8,
   "metadata": {},
   "outputs": [],
   "source": [
    "# now add a diffusion kernel to the field\n",
    "diffKernel = kernels.DiffusionKernel(Gamma=1, field=C, volumeList = wholeProblem, orthogonalityApproach='OCA', m=mesh)\n",
    "C.assign_kernels([diffKernel])"
   ]
  },
  {
   "cell_type": "code",
   "execution_count": 9,
   "metadata": {},
   "outputs": [],
   "source": [
    "# make the solver object\n",
    "solver = solvers.SinglePhysicsSolver(iterations=5, field=C)"
   ]
  },
  {
   "cell_type": "code",
   "execution_count": 10,
   "metadata": {},
   "outputs": [],
   "source": [
    "# get decomposed gradient for dumping out\n",
    "gradParts = C.grad.return_grad()\n",
    "\n",
    "# get C as a Field and add to field list\n",
    "fieldList = gradParts + [C]\n",
    "\n",
    "# make output mesh\n",
    "mesh.export_to_vtk(filename='test.vtk', fieldlist=fieldList)"
   ]
  },
  {
   "cell_type": "code",
   "execution_count": 11,
   "metadata": {},
   "outputs": [
    {
     "name": "stdout",
     "output_type": "stream",
     "text": [
      "SinglePhysicsSolver Field C  ~ Iteration 0\n",
      "SinglePhysicsSolver Field C  ~ Iteration 1\n",
      "SinglePhysicsSolver Field C  ~ Iteration 2\n",
      "SinglePhysicsSolver Field C  ~ Iteration 3\n",
      "SinglePhysicsSolver Field C  ~ Iteration 4\n"
     ]
    }
   ],
   "source": [
    "# solve\n",
    "solver.solve()"
   ]
  },
  {
   "cell_type": "code",
   "execution_count": 12,
   "metadata": {},
   "outputs": [],
   "source": [
    "# get decomposed gradient for dumping out\n",
    "gradParts = C.grad.return_grad()\n",
    "\n",
    "# get b matrix vector\n",
    "bcoeffs = solver.b_to_field()\n",
    "\n",
    "# get C as a Field and add to field list\n",
    "fieldList = gradParts + [C, bcoeffs]\n",
    "\n",
    "# make output mesh\n",
    "mesh.export_to_vtk(filename='test.vtk', fieldlist=fieldList)"
   ]
  }
 ],
 "metadata": {
  "kernelspec": {
   "display_name": "subchannel",
   "language": "python",
   "name": "python3"
  },
  "language_info": {
   "codemirror_mode": {
    "name": "ipython",
    "version": 3
   },
   "file_extension": ".py",
   "mimetype": "text/x-python",
   "name": "python",
   "nbconvert_exporter": "python",
   "pygments_lexer": "ipython3",
   "version": "3.12.8"
  }
 },
 "nbformat": 4,
 "nbformat_minor": 2
}
