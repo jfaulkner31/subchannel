{
 "cells": [
  {
   "cell_type": "code",
   "execution_count": 1,
   "metadata": {},
   "outputs": [],
   "source": [
    "import gmesh_conv.meshing\n",
    "import numpy as np\n",
    "import Fields.Fields as fields\n",
    "import Kernels.Kernels as kernels\n"
   ]
  },
  {
   "cell_type": "code",
   "execution_count": 2,
   "metadata": {},
   "outputs": [
    {
     "name": "stdout",
     "output_type": "stream",
     "text": [
      "Info    : Reading 'gmesh_conv/test.msh'...\n",
      "Info    : 27 entities\n",
      "Info    : 313 nodes\n",
      "Info    : 1603 elements\n",
      "Info    : Done reading 'gmesh_conv/test.msh'\n",
      "============================\n",
      "Total volume is: 0.9999999999999997\n",
      "============================\n",
      "Information for mesh with id of 0\n",
      "Volume information:\n",
      "\tVolume ID 0  Physical Name: controlVolume\n",
      "Surface information:\n",
      "\tSurface ID 0  Physical Name: zPlus\n",
      "\tSurface ID 1  Physical Name: xPlus\n",
      "\tSurface ID 2  Physical Name: yPlus\n",
      "\tSurface ID 3  Physical Name: xMinus\n",
      "\tSurface ID 4  Physical Name: yMinus\n",
      "\tSurface ID 5  Physical Name: zMinus\n"
     ]
    }
   ],
   "source": [
    "# Get the gmsh mesh as a mesh object\n",
    "mesh = gmesh_conv.meshing.mesh_from_gmsh('gmesh_conv/test.msh')"
   ]
  },
  {
   "cell_type": "code",
   "execution_count": 3,
   "metadata": {},
   "outputs": [],
   "source": [
    "# write a variable with all the volume ids of interest.\n",
    "wholeProblem = [mesh.volumes[0]]  # there is only one volume and it has id of 0"
   ]
  },
  {
   "cell_type": "code",
   "execution_count": 4,
   "metadata": {},
   "outputs": [],
   "source": [
    "# make a pure zero field to describe the initial conditions or initial guess of the problem.\n",
    "# we use the wholeProblem before as the volume list since it is a list of volumes that contains all the elements that the field lives on.\n",
    "# wholeProblem\n",
    "#   volumes in the wholeProble list from above\n",
    "#     elements in this volume\n",
    "#       element id for this element\n",
    "zeroField = fields.ZeroScalarField(volumeList=wholeProblem)"
   ]
  },
  {
   "cell_type": "code",
   "execution_count": 5,
   "metadata": {},
   "outputs": [],
   "source": [
    "# now make a scalar field - we will call this T\n",
    "# use the initial condition zeroField to set the IC of the ScalarField\n",
    "C = fields.ScalarField(initial_condition=zeroField)\n",
    "\n"
   ]
  },
  {
   "cell_type": "code",
   "execution_count": 6,
   "metadata": {},
   "outputs": [],
   "source": [
    "# now add a diffusion kernel to the field\n",
    "diffKernel = kernels.DiffusionKernel(Gamma=1, T=C, volumeList = wholeProblem, orthogonalityApproach='MCA', m=mesh)"
   ]
  }
 ],
 "metadata": {
  "kernelspec": {
   "display_name": "base",
   "language": "python",
   "name": "python3"
  },
  "language_info": {
   "codemirror_mode": {
    "name": "ipython",
    "version": 3
   },
   "file_extension": ".py",
   "mimetype": "text/x-python",
   "name": "python",
   "nbconvert_exporter": "python",
   "pygments_lexer": "ipython3",
   "version": "3.12.2"
  }
 },
 "nbformat": 4,
 "nbformat_minor": 2
}
